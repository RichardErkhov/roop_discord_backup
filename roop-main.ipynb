{
  "cells": [
    {
      "attachments": {},
      "cell_type": "markdown",
      "metadata": {},
      "source": [
        "# 1-click deepfake\n",
        "\n",
        "original repo: https://github.com/s0md3v/roop\n",
        "\n",
        "`main` branch"
      ]
    },
    {
      "cell_type": "code",
      "execution_count": null,
      "metadata": {
        "cellView": "form"
      },
      "outputs": [],
      "source": [
        "#@markdown **GPU check** (free T4, premium V100 or A100)\n",
        "!nvidia-smi -L"
      ]
    },
    {
      "cell_type": "code",
      "execution_count": null,
      "metadata": {
        "cellView": "form"
      },
      "outputs": [],
      "source": [
        "#@markdown **Setup environment**\n",
        "\n",
        "%%bash\n",
        "\n",
        "# pip install -r roop/requirements.txt\n",
        "# pip uninstall onnxruntime\n",
        "# pip install onnxruntime-gpu\n",
        "pip install 'numpy>=1.23.5' customtkinter tkinterdnd2 onnxruntime-gpu opennsfw2 insightface gfpgan --progress-bar off\n",
        "\n",
        "curl -sSL -o roop.zip https://github.com/s0md3v/roop/archive/main.zip\n",
        "unzip -q -o roop.zip\n",
        "rm roop.zip\n",
        "mv roop-main roop"
      ]
    },
    {
      "cell_type": "code",
      "execution_count": null,
      "metadata": {
        "cellView": "form"
      },
      "outputs": [],
      "source": [
        "#@markdown **download models weights**\n",
        "\n",
        "%%bash\n",
        "\n",
        "download_model () {\n",
        "    wget -P $1 $2 --content-disposition --continue &> /dev/null\n",
        "}\n",
        "\n",
        "download_model roop/models https://huggingface.co/deepinsight/inswapper/resolve/main/inswapper_128.onnx\n",
        "download_model ~/.opennsfw2/weights https://github.com/bhky/opennsfw2/releases/download/v0.1.0/open_nsfw_weights.h5\n",
        "download_model ~/.insightface/models https://github.com/deepinsight/insightface/releases/download/v0.7/buffalo_l.zip\n",
        "\n",
        "download_model roop/models https://github.com/TencentARC/GFPGAN/releases/download/v1.3.0/GFPGANv1.3.pth\n",
        "download_model roop/models https://github.com/TencentARC/GFPGAN/releases/download/v1.3.4/GFPGANv1.4.pth\n",
        "download_model gfpgan/weights https://github.com/xinntao/facexlib/releases/download/v0.1.0/detection_Resnet50_Final.pth\n",
        "download_model gfpgan/weights https://github.com/xinntao/facexlib/releases/download/v0.2.2/parsing_parsenet.pth\n",
        "\n",
        "cd ~/.insightface/models && unzip -q -o buffalo_l.zip -d buffalo_l"
      ]
    },
    {
      "attachments": {},
      "cell_type": "markdown",
      "metadata": {},
      "source": [
        "**ATTENTION:** after setup environment, you have to restart colab runtime\n",
        "\n",
        "without it, the program will likely fail"
      ]
    },
    {
      "cell_type": "code",
      "execution_count": null,
      "metadata": {
        "cellView": "form"
      },
      "outputs": [],
      "source": [
        "#@markdown **Swap face**\n",
        "\n",
        "#@markdown files name shouldn’t contain non-latin characters\n",
        "\n",
        "face_image = \"photo-1535644258845-185656906071.jpeg\"  # @param {type:\"string\"}\n",
        "video_file = \"yolo.webm\"  # @param {type:\"string\"}\n",
        "output_vid = \"swapped.mp4\"  # @param {type:\"string\"}\n",
        "skip_audio = False  # @param {type:\"boolean\"}\n",
        "keep_fps = True  # @param {type:\"boolean\"}\n",
        "swap_all_faces = False  # @param {type:\"boolean\"}\n",
        "#@markdown ↳ if disabled, only the leftmost face in each frame is replaced\n",
        "enhacer_GFPGAN = True  # @param {type:\"boolean\"}\n",
        "#@markdown ↳ if enable, enhance swapped faces but processing is slower\n",
        "gpu_threads = 6  #@param {type:\"integer\"}\n",
        "#@markdown ↳ to be decreased if crash / out of memory error<br />\n",
        "#@markdown suggested value for colab free: 8 if disable enhancer, 6 if enable<br />\n",
        "#@markdown if crash even with only 1 thread, try restarting runtime\n",
        "\n",
        "skip_audio_opt = \"--skip-audio\" if skip_audio else \"\"\n",
        "keep_fps_opt = \"--keep-fps\" if keep_fps else \"\"\n",
        "all_faces_opt = \"--many-faces\" if swap_all_faces else \"\"\n",
        "enhacer_opt = \"face_swapper\"\n",
        "if enhacer_GFPGAN: enhacer_opt += \" face_enhancer\"\n",
        "\n",
        "!python roop/run.py -s $face_image -t $video_file -o $output_vid $keep_fps_opt $all_faces_opt $skip_audio_opt --execution-provider cuda --execution-threads $gpu_threads --frame-processor $enhacer_opt"
      ]
    }
  ],
  "metadata": {
    "accelerator": "GPU",
    "colab": {
      "private_outputs": true,
      "provenance": []
    },
    "kernelspec": {
      "display_name": "Python 3",
      "name": "python3"
    },
    "language_info": {
      "name": "python"
    }
  },
  "nbformat": 4,
  "nbformat_minor": 0
}
